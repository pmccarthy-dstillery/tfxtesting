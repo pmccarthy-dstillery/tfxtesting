{
 "metadata": {
  "language_info": {
   "codemirror_mode": {
    "name": "ipython",
    "version": 3
   },
   "file_extension": ".py",
   "mimetype": "text/x-python",
   "name": "python",
   "nbconvert_exporter": "python",
   "pygments_lexer": "ipython3",
   "version": "3.7.8-final"
  },
  "orig_nbformat": 2,
  "kernelspec": {
   "name": "python_defaultSpec_1601056026006",
   "display_name": "Python 3.7.8 64-bit ('tfx': conda)",
   "metadata": {
    "interpreter": {
     "hash": "98b0a9b7b4eaaa670588a142fd0a9b87eaafe866f1db4228be72b4211d12040f"
    }
   }
  }
 },
 "nbformat": 4,
 "nbformat_minor": 2,
 "cells": [
  {
   "cell_type": "code",
   "execution_count": 3,
   "metadata": {},
   "outputs": [],
   "source": [
    "import tensorflow as tf"
   ]
  },
  {
   "cell_type": "code",
   "execution_count": 2,
   "metadata": {},
   "outputs": [],
   "source": [
    "foo = tf.io.gfile.GFile('gs://pjm-pipeline-artifacts/OL653374/202009251709/Evaluator/evaluation/6')"
   ]
  },
  {
   "cell_type": "code",
   "execution_count": 3,
   "metadata": {},
   "outputs": [
    {
     "output_type": "error",
     "ename": "TypeError",
     "evalue": "listdir: path should be string, bytes, os.PathLike, integer or None, not GFile",
     "traceback": [
      "\u001b[0;31m---------------------------------------------------------------------------\u001b[0m",
      "\u001b[0;31mTypeError\u001b[0m                                 Traceback (most recent call last)",
      "\u001b[0;32m<ipython-input-3-0c5d8b17f47f>\u001b[0m in \u001b[0;36m<module>\u001b[0;34m\u001b[0m\n\u001b[0;32m----> 1\u001b[0;31m \u001b[0mos\u001b[0m\u001b[0;34m.\u001b[0m\u001b[0mlistdir\u001b[0m\u001b[0;34m(\u001b[0m\u001b[0mfoo\u001b[0m\u001b[0;34m)\u001b[0m\u001b[0;34m\u001b[0m\u001b[0;34m\u001b[0m\u001b[0m\n\u001b[0m",
      "\u001b[0;31mTypeError\u001b[0m: listdir: path should be string, bytes, os.PathLike, integer or None, not GFile"
     ]
    }
   ],
   "source": [
    "os.listdir(foo)"
   ]
  },
  {
   "cell_type": "code",
   "execution_count": 6,
   "metadata": {},
   "outputs": [
    {
     "output_type": "execute_result",
     "data": {
      "text/plain": "['eval_config.json', 'metrics', 'plots', 'validations']"
     },
     "metadata": {},
     "execution_count": 6
    }
   ],
   "source": [
    "tf.io.gfile.listdir('gs://pjm-pipeline-artifacts/OL653374/202009251709/Evaluator/evaluation/6')"
   ]
  },
  {
   "cell_type": "code",
   "execution_count": 4,
   "metadata": {
    "tags": []
   },
   "outputs": [],
   "source": [
    "basedir = 'gs://pjm-pipeline-artifacts/OL653374/202009251709/Evaluator/evaluation/6'\n",
    "basedir_files = tf.io.gfile.listdir(basedir)"
   ]
  },
  {
   "cell_type": "code",
   "execution_count": 15,
   "metadata": {},
   "outputs": [
    {
     "output_type": "execute_result",
     "data": {
      "text/plain": "{'evalConfig': {'modelSpecs': [{'labelKey': 'label'}],\n  'slicingSpecs': [{}],\n  'metricsSpecs': [{'metrics': [{'className': 'BinaryAccuracy',\n      'threshold': {'valueThreshold': {'lowerBound': 0.5}}}],\n    'modelNames': ['']}]},\n 'version': '0.23.0',\n 'dataLocation': '<user provided PCollection>',\n 'fileFormat': '<unknown>',\n 'modelLocations': {'': 'gs://pjm-pipeline-artifacts/OL653374/202009251709/Trainer/model/5/serving_model_dir'}}"
     },
     "metadata": {},
     "execution_count": 15
    }
   ],
   "source": [
    "json.loads(tf.io.gfile.GFile(os.path.join(basedir,basedir_files[0])).read())"
   ]
  },
  {
   "cell_type": "code",
   "execution_count": 1,
   "metadata": {
    "tags": []
   },
   "outputs": [],
   "source": [
    "import tensorflow_model_analysis as tfma"
   ]
  },
  {
   "cell_type": "code",
   "execution_count": 6,
   "metadata": {
    "tags": []
   },
   "outputs": [],
   "source": [
    "foo = tfma.load_eval_result(basedir)"
   ]
  },
  {
   "cell_type": "code",
   "execution_count": 9,
   "metadata": {},
   "outputs": [
    {
     "output_type": "execute_result",
     "data": {
      "text/plain": "['__add__',\n '__annotations__',\n '__class__',\n '__contains__',\n '__delattr__',\n '__dict__',\n '__dir__',\n '__doc__',\n '__eq__',\n '__format__',\n '__ge__',\n '__getattribute__',\n '__getitem__',\n '__getnewargs__',\n '__gt__',\n '__hash__',\n '__init__',\n '__init_subclass__',\n '__iter__',\n '__le__',\n '__len__',\n '__lt__',\n '__module__',\n '__mul__',\n '__ne__',\n '__new__',\n '__reduce__',\n '__reduce_ex__',\n '__repr__',\n '__rmul__',\n '__setattr__',\n '__sizeof__',\n '__slots__',\n '__str__',\n '__subclasshook__',\n '_asdict',\n '_field_defaults',\n '_field_types',\n '_fields',\n '_fields_defaults',\n '_make',\n '_replace',\n 'config',\n 'count',\n 'data_location',\n 'file_format',\n 'get_metric_names',\n 'get_metrics_for_all_slices',\n 'get_metrics_for_slice',\n 'get_slice_names',\n 'index',\n 'model_location',\n 'plots',\n 'slicing_metrics']"
     },
     "metadata": {},
     "execution_count": 9
    }
   ],
   "source": [
    "dir(foo)"
   ]
  },
  {
   "cell_type": "code",
   "execution_count": 10,
   "metadata": {},
   "outputs": [
    {
     "output_type": "execute_result",
     "data": {
      "text/plain": "[((), None)]"
     },
     "metadata": {},
     "execution_count": 10
    }
   ],
   "source": [
    "foo.plots"
   ]
  },
  {
   "cell_type": "code",
   "execution_count": 12,
   "metadata": {},
   "outputs": [
    {
     "output_type": "execute_result",
     "data": {
      "text/plain": "['binary_accuracy']"
     },
     "metadata": {},
     "execution_count": 12
    }
   ],
   "source": [
    "foo.get_metric_names()"
   ]
  },
  {
   "cell_type": "code",
   "execution_count": 18,
   "metadata": {},
   "outputs": [
    {
     "output_type": "display_data",
     "data": {
      "text/plain": "SlicingMetricsViewer(config={'weightedExamplesColumn': 'example_count'}, data=[{'slice': 'Overall', 'metrics':…",
      "application/vnd.jupyter.widget-view+json": {
       "version_major": 2,
       "version_minor": 0,
       "model_id": "66bf8e26afd24c21a0cd1815500d81a0"
      }
     },
     "metadata": {}
    }
   ],
   "source": [
    "tfma.view.render_slicing_metrics(foo)"
   ]
  },
  {
   "cell_type": "code",
   "execution_count": 25,
   "metadata": {},
   "outputs": [],
   "source": [
    "def point_to_latest_metrics(basedir: str) -> str:\n",
    "\n",
    "    return str(max([int(x[:-1]) for x in tf.io.gfile.listdir(basedir)]))+'/'"
   ]
  },
  {
   "cell_type": "code",
   "execution_count": 26,
   "metadata": {
    "tags": []
   },
   "outputs": [
    {
     "output_type": "execute_result",
     "data": {
      "text/plain": "'202009251809/'"
     },
     "metadata": {},
     "execution_count": 26
    }
   ],
   "source": [
    "\n",
    "point_to_latest_metrics('gs://pjm-pipeline-artifacts/OL653374')"
   ]
  },
  {
   "cell_type": "code",
   "execution_count": null,
   "metadata": {},
   "outputs": [],
   "source": [
    "load_latest_metrics(basedir: str):\n",
    "\n",
    "    latest_metric_dir = point_to_latest_metrics(basedir)\n",
    "    # assume a single directory in evaulation\n",
    "    bottom_dir = tf.io.gfile.listdir()"
   ]
  }
 ]
}