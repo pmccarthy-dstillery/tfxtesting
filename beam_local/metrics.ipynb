{
 "metadata": {
  "language_info": {
   "codemirror_mode": {
    "name": "ipython",
    "version": 3
   },
   "file_extension": ".py",
   "mimetype": "text/x-python",
   "name": "python",
   "nbconvert_exporter": "python",
   "pygments_lexer": "ipython3",
   "version": "3.7.8-final"
  },
  "orig_nbformat": 2,
  "kernelspec": {
   "name": "Python 3.7.8 64-bit ('base': conda)",
   "display_name": "Python 3.7.8 64-bit ('base': conda)",
   "metadata": {
    "interpreter": {
     "hash": "98b0a9b7b4eaaa670588a142fd0a9b87eaafe866f1db4228be72b4211d12040f"
    }
   }
  }
 },
 "nbformat": 4,
 "nbformat_minor": 2,
 "cells": [
  {
   "cell_type": "code",
   "execution_count": 1,
   "metadata": {},
   "outputs": [],
   "source": [
    "import tensorflow as tf\n",
    "import tensorflow_model_analysis as tfma"
   ]
  },
  {
   "cell_type": "code",
   "execution_count": 9,
   "metadata": {
    "tags": []
   },
   "outputs": [],
   "source": [
    "from ml_metadata import metadata_store\n",
    "from ml_metadata.proto import metadata_store_pb2\n",
    "import pandas as pd\n",
    "\n",
    "connection_config = metadata_store_pb2.ConnectionConfig()\n",
    "connection_config.sqlite.filename_uri = '/tmp/pjm_beam_pipeline/meta/beam/OL653374'\n",
    "connection_config.sqlite.connection_mode = 3\n",
    "store = metadata_store.MetadataStore(connection_config)"
   ]
  },
  {
   "cell_type": "code",
   "execution_count": 10,
   "metadata": {},
   "outputs": [
    {
     "output_type": "stream",
     "name": "stdout",
     "text": [
      "WARNING:tensorflow:From /opt/conda/lib/python3.7/site-packages/tensorflow_model_analysis/writers/metrics_plots_and_validations_writer.py:70: tf_record_iterator (from tensorflow.python.lib.io.tf_record) is deprecated and will be removed in a future version.\n",
      "Instructions for updating:\n",
      "Use eager execution and: \n",
      "`tf.data.TFRecordDataset(path)`\n",
      "WARNING:tensorflow:From /opt/conda/lib/python3.7/site-packages/tensorflow_model_analysis/writers/metrics_plots_and_validations_writer.py:70: tf_record_iterator (from tensorflow.python.lib.io.tf_record) is deprecated and will be removed in a future version.\n",
      "Instructions for updating:\n",
      "Use eager execution and: \n",
      "`tf.data.TFRecordDataset(path)`\n"
     ]
    }
   ],
   "source": [
    "eval_artifacts = store.get_artifacts_by_type('ModelEvaluation')\n",
    "eval_results = tfma.load_eval_results([x.uri for x in eval_artifacts])"
   ]
  },
  {
   "cell_type": "code",
   "execution_count": 19,
   "metadata": {},
   "outputs": [
    {
     "output_type": "execute_result",
     "data": {
      "text/plain": [
       "                       beam_OL653374_202010071310 beam_OL653374_202010071410\n",
       "                                      doubleValue                doubleValue\n",
       "calibration                              5.267619                   5.255324\n",
       "mean_prediction                          0.500243                   0.499075\n",
       "mean_label                               0.094966                   0.094966\n",
       "recall                                   0.470085                   0.292840\n",
       "precision                                0.089961                   0.086676\n",
       "auc_precision_recall                     0.092291                   0.093584\n",
       "auc                                      0.500000                   0.500000\n",
       "weighted_example_count               98383.000000               98383.000000\n",
       "example_count                        98383.000000               98383.000000\n",
       "accuracy                                 0.469217                   0.613185\n",
       "binary_crossentropy                      0.693625                   0.691688"
      ],
      "text/html": "<div>\n<style scoped>\n    .dataframe tbody tr th:only-of-type {\n        vertical-align: middle;\n    }\n\n    .dataframe tbody tr th {\n        vertical-align: top;\n    }\n\n    .dataframe thead tr th {\n        text-align: left;\n    }\n</style>\n<table border=\"1\" class=\"dataframe\">\n  <thead>\n    <tr>\n      <th></th>\n      <th>beam_OL653374_202010071310</th>\n      <th>beam_OL653374_202010071410</th>\n    </tr>\n    <tr>\n      <th></th>\n      <th>doubleValue</th>\n      <th>doubleValue</th>\n    </tr>\n  </thead>\n  <tbody>\n    <tr>\n      <th>calibration</th>\n      <td>5.267619</td>\n      <td>5.255324</td>\n    </tr>\n    <tr>\n      <th>mean_prediction</th>\n      <td>0.500243</td>\n      <td>0.499075</td>\n    </tr>\n    <tr>\n      <th>mean_label</th>\n      <td>0.094966</td>\n      <td>0.094966</td>\n    </tr>\n    <tr>\n      <th>recall</th>\n      <td>0.470085</td>\n      <td>0.292840</td>\n    </tr>\n    <tr>\n      <th>precision</th>\n      <td>0.089961</td>\n      <td>0.086676</td>\n    </tr>\n    <tr>\n      <th>auc_precision_recall</th>\n      <td>0.092291</td>\n      <td>0.093584</td>\n    </tr>\n    <tr>\n      <th>auc</th>\n      <td>0.500000</td>\n      <td>0.500000</td>\n    </tr>\n    <tr>\n      <th>weighted_example_count</th>\n      <td>98383.000000</td>\n      <td>98383.000000</td>\n    </tr>\n    <tr>\n      <th>example_count</th>\n      <td>98383.000000</td>\n      <td>98383.000000</td>\n    </tr>\n    <tr>\n      <th>accuracy</th>\n      <td>0.469217</td>\n      <td>0.613185</td>\n    </tr>\n    <tr>\n      <th>binary_crossentropy</th>\n      <td>0.693625</td>\n      <td>0.691688</td>\n    </tr>\n  </tbody>\n</table>\n</div>"
     },
     "metadata": {},
     "execution_count": 19
    }
   ],
   "source": [
    "\n",
    "\n",
    "def trim_location(result):\n",
    "    location_str = result._asdict()['model_location']\n",
    "    return \"_\".join(location_str.split('/')[3:6])\n",
    "\n",
    "def process_metrics(result):\n",
    "    metric_list = result._asdict()['slicing_metrics']\n",
    "    metric_dict = metric_list[0][1]['']['']\n",
    "    return pd.DataFrame.from_dict(metric_dict)\n",
    "\n",
    "\n",
    "result_df = pd.concat({\n",
    "    trim_location(x):process_metrics(x) \n",
    "    for x in eval_results.get_results()})\n",
    "result_df.transpose()"
   ]
  }
 ]
}