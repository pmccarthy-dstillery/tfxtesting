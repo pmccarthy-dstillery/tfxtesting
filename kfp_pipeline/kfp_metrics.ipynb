{
 "metadata": {
  "language_info": {
   "codemirror_mode": {
    "name": "ipython",
    "version": 3
   },
   "file_extension": ".py",
   "mimetype": "text/x-python",
   "name": "python",
   "nbconvert_exporter": "python",
   "pygments_lexer": "ipython3",
   "version": "3.7.8-final"
  },
  "orig_nbformat": 2,
  "kernelspec": {
   "name": "python_defaultSpec_1601472433882",
   "display_name": "Python 3.7.8 64-bit ('tfx': conda)",
   "metadata": {
    "interpreter": {
     "hash": "98b0a9b7b4eaaa670588a142fd0a9b87eaafe866f1db4228be72b4211d12040f"
    }
   }
  }
 },
 "nbformat": 4,
 "nbformat_minor": 2,
 "cells": [
  {
   "cell_type": "code",
   "execution_count": 71,
   "metadata": {
    "tags": []
   },
   "outputs": [
    {
     "output_type": "stream",
     "name": "stdout",
     "text": "Collecting kubeflow-metadata\n  Downloading kubeflow-metadata-0.3.1.tar.gz (10 kB)\nCollecting ml-metadata==0.21.1\n  Downloading ml_metadata-0.21.1-cp37-cp37m-manylinux2010_x86_64.whl (4.9 MB)\n     |████████████████████████████████| 4.9 MB 4.8 MB/s \n\u001b[?25hCollecting retrying\n  Downloading retrying-1.3.3.tar.gz (10 kB)\nRequirement already satisfied: protobuf&lt;4,&gt;=3.7 in /opt/conda/envs/tfx/lib/python3.7/site-packages (from ml-metadata==0.21.1-&gt;kubeflow-metadata) (3.13.0)\nRequirement already satisfied: six&lt;2,&gt;=1.10 in /opt/conda/envs/tfx/lib/python3.7/site-packages (from ml-metadata==0.21.1-&gt;kubeflow-metadata) (1.15.0)\nRequirement already satisfied: tensorflow!=2.0.*,&lt;3,&gt;=1.15 in /opt/conda/envs/tfx/lib/python3.7/site-packages (from ml-metadata==0.21.1-&gt;kubeflow-metadata) (2.3.0)\nRequirement already satisfied: absl-py&lt;1,&gt;=0.7 in /opt/conda/envs/tfx/lib/python3.7/site-packages (from ml-metadata==0.21.1-&gt;kubeflow-metadata) (0.8.1)\nRequirement already satisfied: setuptools in /opt/conda/envs/tfx/lib/python3.7/site-packages (from protobuf&lt;4,&gt;=3.7-&gt;ml-metadata==0.21.1-&gt;kubeflow-metadata) (49.6.0.post20200917)\nRequirement already satisfied: termcolor&gt;=1.1.0 in /opt/conda/envs/tfx/lib/python3.7/site-packages (from tensorflow!=2.0.*,&lt;3,&gt;=1.15-&gt;ml-metadata==0.21.1-&gt;kubeflow-metadata) (1.1.0)\nRequirement already satisfied: h5py&lt;2.11.0,&gt;=2.10.0 in /opt/conda/envs/tfx/lib/python3.7/site-packages (from tensorflow!=2.0.*,&lt;3,&gt;=1.15-&gt;ml-metadata==0.21.1-&gt;kubeflow-metadata) (2.10.0)\nRequirement already satisfied: opt-einsum&gt;=2.3.2 in /opt/conda/envs/tfx/lib/python3.7/site-packages (from tensorflow!=2.0.*,&lt;3,&gt;=1.15-&gt;ml-metadata==0.21.1-&gt;kubeflow-metadata) (3.3.0)\nRequirement already satisfied: astunparse==1.6.3 in /opt/conda/envs/tfx/lib/python3.7/site-packages (from tensorflow!=2.0.*,&lt;3,&gt;=1.15-&gt;ml-metadata==0.21.1-&gt;kubeflow-metadata) (1.6.3)\nRequirement already satisfied: gast==0.3.3 in /opt/conda/envs/tfx/lib/python3.7/site-packages (from tensorflow!=2.0.*,&lt;3,&gt;=1.15-&gt;ml-metadata==0.21.1-&gt;kubeflow-metadata) (0.3.3)\nRequirement already satisfied: tensorboard&lt;3,&gt;=2.3.0 in /opt/conda/envs/tfx/lib/python3.7/site-packages (from tensorflow!=2.0.*,&lt;3,&gt;=1.15-&gt;ml-metadata==0.21.1-&gt;kubeflow-metadata) (2.3.0)\nRequirement already satisfied: wrapt&gt;=1.11.1 in /opt/conda/envs/tfx/lib/python3.7/site-packages (from tensorflow!=2.0.*,&lt;3,&gt;=1.15-&gt;ml-metadata==0.21.1-&gt;kubeflow-metadata) (1.12.1)\nRequirement already satisfied: keras-preprocessing&lt;1.2,&gt;=1.1.1 in /opt/conda/envs/tfx/lib/python3.7/site-packages (from tensorflow!=2.0.*,&lt;3,&gt;=1.15-&gt;ml-metadata==0.21.1-&gt;kubeflow-metadata) (1.1.2)\nRequirement already satisfied: numpy&lt;1.19.0,&gt;=1.16.0 in /opt/conda/envs/tfx/lib/python3.7/site-packages (from tensorflow!=2.0.*,&lt;3,&gt;=1.15-&gt;ml-metadata==0.21.1-&gt;kubeflow-metadata) (1.18.5)\nRequirement already satisfied: tensorflow-estimator&lt;2.4.0,&gt;=2.3.0 in /opt/conda/envs/tfx/lib/python3.7/site-packages (from tensorflow!=2.0.*,&lt;3,&gt;=1.15-&gt;ml-metadata==0.21.1-&gt;kubeflow-metadata) (2.3.0)\nRequirement already satisfied: wheel&gt;=0.26 in /opt/conda/envs/tfx/lib/python3.7/site-packages (from tensorflow!=2.0.*,&lt;3,&gt;=1.15-&gt;ml-metadata==0.21.1-&gt;kubeflow-metadata) (0.35.1)\nRequirement already satisfied: scipy==1.4.1 in /opt/conda/envs/tfx/lib/python3.7/site-packages (from tensorflow!=2.0.*,&lt;3,&gt;=1.15-&gt;ml-metadata==0.21.1-&gt;kubeflow-metadata) (1.4.1)\nRequirement already satisfied: grpcio&gt;=1.8.6 in /opt/conda/envs/tfx/lib/python3.7/site-packages (from tensorflow!=2.0.*,&lt;3,&gt;=1.15-&gt;ml-metadata==0.21.1-&gt;kubeflow-metadata) (1.32.0)\nRequirement already satisfied: google-pasta&gt;=0.1.8 in /opt/conda/envs/tfx/lib/python3.7/site-packages (from tensorflow!=2.0.*,&lt;3,&gt;=1.15-&gt;ml-metadata==0.21.1-&gt;kubeflow-metadata) (0.2.0)\nRequirement already satisfied: markdown&gt;=2.6.8 in /opt/conda/envs/tfx/lib/python3.7/site-packages (from tensorboard&lt;3,&gt;=2.3.0-&gt;tensorflow!=2.0.*,&lt;3,&gt;=1.15-&gt;ml-metadata==0.21.1-&gt;kubeflow-metadata) (3.2.2)\nRequirement already satisfied: requests&lt;3,&gt;=2.21.0 in /opt/conda/envs/tfx/lib/python3.7/site-packages (from tensorboard&lt;3,&gt;=2.3.0-&gt;tensorflow!=2.0.*,&lt;3,&gt;=1.15-&gt;ml-metadata==0.21.1-&gt;kubeflow-metadata) (2.24.0)\nRequirement already satisfied: google-auth-oauthlib&lt;0.5,&gt;=0.4.1 in /opt/conda/envs/tfx/lib/python3.7/site-packages (from tensorboard&lt;3,&gt;=2.3.0-&gt;tensorflow!=2.0.*,&lt;3,&gt;=1.15-&gt;ml-metadata==0.21.1-&gt;kubeflow-metadata) (0.4.1)\nRequirement already satisfied: tensorboard-plugin-wit&gt;=1.6.0 in /opt/conda/envs/tfx/lib/python3.7/site-packages (from tensorboard&lt;3,&gt;=2.3.0-&gt;tensorflow!=2.0.*,&lt;3,&gt;=1.15-&gt;ml-metadata==0.21.1-&gt;kubeflow-metadata) (1.7.0)\nRequirement already satisfied: werkzeug&gt;=0.11.15 in /opt/conda/envs/tfx/lib/python3.7/site-packages (from tensorboard&lt;3,&gt;=2.3.0-&gt;tensorflow!=2.0.*,&lt;3,&gt;=1.15-&gt;ml-metadata==0.21.1-&gt;kubeflow-metadata) (1.0.1)\nRequirement already satisfied: google-auth&lt;2,&gt;=1.6.3 in /opt/conda/envs/tfx/lib/python3.7/site-packages (from tensorboard&lt;3,&gt;=2.3.0-&gt;tensorflow!=2.0.*,&lt;3,&gt;=1.15-&gt;ml-metadata==0.21.1-&gt;kubeflow-metadata) (1.21.3)\nRequirement already satisfied: importlib-metadata; python_version &lt; &quot;3.8&quot; in /opt/conda/envs/tfx/lib/python3.7/site-packages (from markdown&gt;=2.6.8-&gt;tensorboard&lt;3,&gt;=2.3.0-&gt;tensorflow!=2.0.*,&lt;3,&gt;=1.15-&gt;ml-metadata==0.21.1-&gt;kubeflow-metadata) (2.0.0)\nRequirement already satisfied: chardet&lt;4,&gt;=3.0.2 in /opt/conda/envs/tfx/lib/python3.7/site-packages (from requests&lt;3,&gt;=2.21.0-&gt;tensorboard&lt;3,&gt;=2.3.0-&gt;tensorflow!=2.0.*,&lt;3,&gt;=1.15-&gt;ml-metadata==0.21.1-&gt;kubeflow-metadata) (3.0.4)\nRequirement already satisfied: idna&lt;3,&gt;=2.5 in /opt/conda/envs/tfx/lib/python3.7/site-packages (from requests&lt;3,&gt;=2.21.0-&gt;tensorboard&lt;3,&gt;=2.3.0-&gt;tensorflow!=2.0.*,&lt;3,&gt;=1.15-&gt;ml-metadata==0.21.1-&gt;kubeflow-metadata) (2.10)\nRequirement already satisfied: urllib3!=1.25.0,!=1.25.1,&lt;1.26,&gt;=1.21.1 in /opt/conda/envs/tfx/lib/python3.7/site-packages (from requests&lt;3,&gt;=2.21.0-&gt;tensorboard&lt;3,&gt;=2.3.0-&gt;tensorflow!=2.0.*,&lt;3,&gt;=1.15-&gt;ml-metadata==0.21.1-&gt;kubeflow-metadata) (1.25.10)\nRequirement already satisfied: certifi&gt;=2017.4.17 in /opt/conda/envs/tfx/lib/python3.7/site-packages (from requests&lt;3,&gt;=2.21.0-&gt;tensorboard&lt;3,&gt;=2.3.0-&gt;tensorflow!=2.0.*,&lt;3,&gt;=1.15-&gt;ml-metadata==0.21.1-&gt;kubeflow-metadata) (2020.6.20)\nRequirement already satisfied: requests-oauthlib&gt;=0.7.0 in /opt/conda/envs/tfx/lib/python3.7/site-packages (from google-auth-oauthlib&lt;0.5,&gt;=0.4.1-&gt;tensorboard&lt;3,&gt;=2.3.0-&gt;tensorflow!=2.0.*,&lt;3,&gt;=1.15-&gt;ml-metadata==0.21.1-&gt;kubeflow-metadata) (1.3.0)\nRequirement already satisfied: pyasn1-modules&gt;=0.2.1 in /opt/conda/envs/tfx/lib/python3.7/site-packages (from google-auth&lt;2,&gt;=1.6.3-&gt;tensorboard&lt;3,&gt;=2.3.0-&gt;tensorflow!=2.0.*,&lt;3,&gt;=1.15-&gt;ml-metadata==0.21.1-&gt;kubeflow-metadata) (0.2.8)\nRequirement already satisfied: rsa&lt;5,&gt;=3.1.4; python_version &gt;= &quot;3.5&quot; in /opt/conda/envs/tfx/lib/python3.7/site-packages (from google-auth&lt;2,&gt;=1.6.3-&gt;tensorboard&lt;3,&gt;=2.3.0-&gt;tensorflow!=2.0.*,&lt;3,&gt;=1.15-&gt;ml-metadata==0.21.1-&gt;kubeflow-metadata) (4.6)\nRequirement already satisfied: cachetools&lt;5.0,&gt;=2.0.0 in /opt/conda/envs/tfx/lib/python3.7/site-packages (from google-auth&lt;2,&gt;=1.6.3-&gt;tensorboard&lt;3,&gt;=2.3.0-&gt;tensorflow!=2.0.*,&lt;3,&gt;=1.15-&gt;ml-metadata==0.21.1-&gt;kubeflow-metadata) (3.1.1)\nRequirement already satisfied: zipp&gt;=0.5 in /opt/conda/envs/tfx/lib/python3.7/site-packages (from importlib-metadata; python_version &lt; &quot;3.8&quot;-&gt;markdown&gt;=2.6.8-&gt;tensorboard&lt;3,&gt;=2.3.0-&gt;tensorflow!=2.0.*,&lt;3,&gt;=1.15-&gt;ml-metadata==0.21.1-&gt;kubeflow-metadata) (3.2.0)\nRequirement already satisfied: oauthlib&gt;=3.0.0 in /opt/conda/envs/tfx/lib/python3.7/site-packages (from requests-oauthlib&gt;=0.7.0-&gt;google-auth-oauthlib&lt;0.5,&gt;=0.4.1-&gt;tensorboard&lt;3,&gt;=2.3.0-&gt;tensorflow!=2.0.*,&lt;3,&gt;=1.15-&gt;ml-metadata==0.21.1-&gt;kubeflow-metadata) (3.1.0)\nRequirement already satisfied: pyasn1&lt;0.5.0,&gt;=0.4.6 in /opt/conda/envs/tfx/lib/python3.7/site-packages (from pyasn1-modules&gt;=0.2.1-&gt;google-auth&lt;2,&gt;=1.6.3-&gt;tensorboard&lt;3,&gt;=2.3.0-&gt;tensorflow!=2.0.*,&lt;3,&gt;=1.15-&gt;ml-metadata==0.21.1-&gt;kubeflow-metadata) (0.4.8)\nBuilding wheels for collected packages: kubeflow-metadata, retrying\n  Building wheel for kubeflow-metadata (setup.py) ... \u001b[?25ldone\n\u001b[?25h  Created wheel for kubeflow-metadata: filename=kubeflow_metadata-0.3.1-py3-none-any.whl size=11471 sha256=251568903deb5344f1b5a7523e6ba45c5544409a53cb88ac704c9dadebf1aa0e\n  Stored in directory: /home/pmccarthy/.cache/pip/wheels/9b/39/1d/2c572e2fb7c629465195f44a605082fce313715ba9574993a0\n  Building wheel for retrying (setup.py) ... \u001b[?25ldone\n\u001b[?25h  Created wheel for retrying: filename=retrying-1.3.3-py3-none-any.whl size=11429 sha256=a43750d45642799b66874d3e55db47f5b1846ef56e8dcac02dcd1018b285495d\n  Stored in directory: /home/pmccarthy/.cache/pip/wheels/f9/8d/8d/f6af3f7f9eea3553bc2fe6d53e4b287dad18b06a861ac56ddf\nSuccessfully built kubeflow-metadata retrying\nInstalling collected packages: ml-metadata, retrying, kubeflow-metadata\n  Attempting uninstall: ml-metadata\n    Found existing installation: ml-metadata 0.23.0\n    Uninstalling ml-metadata-0.23.0:\n      Successfully uninstalled ml-metadata-0.23.0\nERROR: After October 2020 you may experience errors when installing or updating packages. This is because pip will change the way that it resolves dependency conflicts.\n\nWe recommend you use --use-feature=2020-resolver to test your packages with the new resolver before it becomes the default.\n\ntfx 0.23.0 requires ml-metadata&lt;0.24,&gt;=0.23, but you&#39;ll have ml-metadata 0.21.1 which is incompatible.\nSuccessfully installed kubeflow-metadata-0.3.1 ml-metadata-0.21.1 retrying-1.3.3\n"
    }
   ],
   "source": [
    "! pip install kubeflow-metadata"
   ]
  },
  {
   "cell_type": "code",
   "execution_count": 82,
   "metadata": {},
   "outputs": [],
   "source": [
    "import tensorflow_model_analysis as tfma\n",
    "import tfx\n",
    "from tfx.orchestration.kubeflow import kubeflow_dag_runner, kubeflow_metadata_adapter\n",
    "\n",
    "from kubeflow.metadata import metadata\n",
    "\n",
    "import pandas as pd\n",
    "from io import StringIO\n",
    "import subprocess\n",
    "import yaml\n"
   ]
  },
  {
   "cell_type": "code",
   "execution_count": 26,
   "metadata": {},
   "outputs": [],
   "source": [
    "pod_listing = subprocess.run([\"kubectl\",\"get\",\"pods\",\"--selector=app=mysql\",\"-o\",\"yaml\"],capture_output=True).stdout\n",
    "\n",
    "pod_listing_dict = yaml.safe_load(pod_listing)"
   ]
  },
  {
   "cell_type": "code",
   "execution_count": 37,
   "metadata": {},
   "outputs": [],
   "source": [
    "meta_pod = subprocess.run([\"kubectl\",\"describe\",\"services\",\"metadata-grpc-service\"],capture_output=True).stdout"
   ]
  },
  {
   "cell_type": "code",
   "execution_count": 70,
   "metadata": {},
   "outputs": [],
   "source": [
    "endpoint_addr = [x for x in meta_pod.decode('utf-8').split('\\n') if 'Endpoints' in x][0].replace('Endpoints:','').strip()"
   ]
  },
  {
   "cell_type": "code",
   "execution_count": 73,
   "metadata": {},
   "outputs": [],
   "source": [
    "METADATA_STORE_HOST, METADATA_STORE_PORT = endpoint_addr.split(':')"
   ]
  },
  {
   "cell_type": "code",
   "execution_count": 74,
   "metadata": {},
   "outputs": [],
   "source": [
    "ws1 = metadata.Workspace(store=metadata.Store(grpc_host=METADATA_STORE_HOST, grpc_port=int(METADATA_STORE_PORT)),\n",
    "name='workspace_1',description='a workspace for testing',labels={\"n1\":\"v1\"})"
   ]
  },
  {
   "cell_type": "code",
   "execution_count": 79,
   "metadata": {},
   "outputs": [],
   "source": [
    "eval_artifacts = ws1.store.get_artifacts_by_type('ModelEvaluation')"
   ]
  },
  {
   "cell_type": "code",
   "execution_count": 83,
   "metadata": {
    "tags": []
   },
   "outputs": [
    {
     "output_type": "stream",
     "name": "stdout",
     "text": "WARNING:tensorflow:From /opt/conda/envs/tfx/lib/python3.7/site-packages/tensorflow_model_analysis/writers/metrics_plots_and_validations_writer.py:70: tf_record_iterator (from tensorflow.python.lib.io.tf_record) is deprecated and will be removed in a future version.\nInstructions for updating:\nUse eager execution and: \n`tf.data.TFRecordDataset(path)`\n"
    }
   ],
   "source": [
    "eval_results = tfma.load_eval_results([x.uri for x in eval_artifacts])"
   ]
  },
  {
   "cell_type": "code",
   "execution_count": 84,
   "metadata": {},
   "outputs": [
    {
     "output_type": "execute_result",
     "data": {
      "text/plain": "&lt;tensorflow_model_analysis.view.view_types.EvalResults at 0x7f4cb117b790&gt;"
     },
     "metadata": {},
     "execution_count": 84
    }
   ],
   "source": [
    "eval_results"
   ]
  },
  {
   "cell_type": "code",
   "execution_count": 85,
   "metadata": {},
   "outputs": [
    {
     "output_type": "execute_result",
     "data": {
      "text/plain": "                                                           binary_accuracy  \\\ntfx_pipeline_output_pjm-pipeline-20200909a    doubleValue         0.711934   \n                                              doubleValue         0.920047   \ntfx_iris_edb0c03f-edb1-4620-90d9-c58f95eefc89 doubleValue              NaN   \n\n                                                           binary_accuracy_diff  \\\ntfx_pipeline_output_pjm-pipeline-20200909a    doubleValue                   NaN   \n                                              doubleValue              0.208113   \ntfx_iris_edb0c03f-edb1-4620-90d9-c58f95eefc89 doubleValue                   NaN   \n\n                                                           sparse_categorical_accuracy  \ntfx_pipeline_output_pjm-pipeline-20200909a    doubleValue                          NaN  \n                                              doubleValue                          NaN  \ntfx_iris_edb0c03f-edb1-4620-90d9-c58f95eefc89 doubleValue                     0.513514  ",
      "text/html": "<div>\n<style scoped>\n    .dataframe tbody tr th:only-of-type {\n        vertical-align: middle;\n    }\n\n    .dataframe tbody tr th {\n        vertical-align: top;\n    }\n\n    .dataframe thead th {\n        text-align: right;\n    }\n</style>\n<table border=\"1\" class=\"dataframe\">\n  <thead>\n    <tr style=\"text-align: right;\">\n      <th></th>\n      <th></th>\n      <th>binary_accuracy</th>\n      <th>binary_accuracy_diff</th>\n      <th>sparse_categorical_accuracy</th>\n    </tr>\n  </thead>\n  <tbody>\n    <tr>\n      <th>tfx_pipeline_output_pjm-pipeline-20200909a</th>\n      <th>doubleValue</th>\n      <td>0.711934</td>\n      <td>NaN</td>\n      <td>NaN</td>\n    </tr>\n    <tr>\n      <th></th>\n      <th>doubleValue</th>\n      <td>0.920047</td>\n      <td>0.208113</td>\n      <td>NaN</td>\n    </tr>\n    <tr>\n      <th>tfx_iris_edb0c03f-edb1-4620-90d9-c58f95eefc89</th>\n      <th>doubleValue</th>\n      <td>NaN</td>\n      <td>NaN</td>\n      <td>0.513514</td>\n    </tr>\n  </tbody>\n</table>\n</div>"
     },
     "metadata": {},
     "execution_count": 85
    }
   ],
   "source": [
    "def trim_location(result):\n",
    "    location_str = result._asdict()['model_location']\n",
    "    return \"_\".join(location_str.split('/')[3:5])\n",
    "\n",
    "def process_metrics(result):\n",
    "    metric_list = result._asdict()['slicing_metrics']\n",
    "    metric_dict = metric_list[0][1]['']['']\n",
    "    return pd.DataFrame.from_dict(metric_dict)\n",
    "\n",
    "\n",
    "result_df = pd.concat({\n",
    "    trim_location(x):process_metrics(x) \n",
    "    for x in eval_results.get_results()})\n",
    "result_df"
   ]
  },
  {
   "cell_type": "code",
   "execution_count": null,
   "metadata": {},
   "outputs": [],
   "source": []
  }
 ]
}