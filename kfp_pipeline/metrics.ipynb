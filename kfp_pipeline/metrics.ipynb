{
 "metadata": {
  "language_info": {
   "codemirror_mode": {
    "name": "ipython",
    "version": 3
   },
   "file_extension": ".py",
   "mimetype": "text/x-python",
   "name": "python",
   "nbconvert_exporter": "python",
   "pygments_lexer": "ipython3",
   "version": "3.7.8-final"
  },
  "orig_nbformat": 2,
  "kernelspec": {
   "name": "Python 3.7.8 64-bit ('base': conda)",
   "display_name": "Python 3.7.8 64-bit ('base': conda)",
   "metadata": {
    "interpreter": {
     "hash": "98b0a9b7b4eaaa670588a142fd0a9b87eaafe866f1db4228be72b4211d12040f"
    }
   }
  }
 },
 "nbformat": 4,
 "nbformat_minor": 2,
 "cells": [
  {
   "cell_type": "code",
   "execution_count": 84,
   "metadata": {},
   "outputs": [],
   "source": [
    "from kubeflow.metadata import metadata as kubeflow_metadata\n",
    "import pandas as pd\n",
    "import tensorflow_model_analysis as tfma\n",
    "import subprocess"
   ]
  },
  {
   "cell_type": "code",
   "execution_count": 77,
   "metadata": {},
   "outputs": [],
   "source": [
    "meta_pod = subprocess.run([\"kubectl\",\"describe\",\"services\",\"metadata-grpc-service\"],capture_output=True).stdout\n",
    "\n",
    "endpoint_addr = [x for x in meta_pod.decode('utf-8').split('\\n') if 'Endpoints' in x][0].replace('Endpoints:','').strip()\n",
    "\n",
    "METADATA_STORE_HOST, METADATA_STORE_PORT = endpoint_addr.split(':')"
   ]
  },
  {
   "cell_type": "code",
   "execution_count": 82,
   "metadata": {},
   "outputs": [
    {
     "output_type": "stream",
     "name": "stdout",
     "text": [
      "[(23, 'gs://dst-pjm-pipeline-20200827/tfx_pipeline_output/pjm-pipeline-20200909a/Evaluator/evaluation/43'), (27, 'gs://dst-pjm-pipeline-20200827/tfx_pipeline_output/pjm-pipeline-20200909a/Evaluator/evaluation/51'), (38, 'gs://dst-mlpipes-kubeflowpipelines-default/tfx_iris/edb0c03f-edb1-4620-90d9-c58f95eefc89/Evaluator/evaluation/60'), (122, 'gs://pjm-pipeline-artifacts/OL653374_kfp/202010061810/Evaluator/evaluation/170'), (133, 'gs://pjm-pipeline-artifacts/Evaluator/evaluation/184')]\n"
     ]
    }
   ],
   "source": [
    "ws = kubeflow_metadata.Workspace(store=kubeflow_metadata.Store(grpc_host=METADATA_STORE_HOST, grpc_port=int(METADATA_STORE_PORT)),\n",
    "name='workspace_1',description='a workspace for testing',labels={\"n1\":\"v1\"})\n",
    "\n",
    "eval_artifacts = ws.store.get_artifacts_by_type('ModelEvaluation')\n",
    "\n",
    "print([(x.id, x.uri) for x in eval_artifacts])\n",
    "\n",
    "eval_results = tfma.load_eval_results([x.uri for x in eval_artifacts])\n",
    "# eval_artifacts"
   ]
  },
  {
   "cell_type": "code",
   "execution_count": 85,
   "metadata": {},
   "outputs": [
    {
     "output_type": "execute_result",
     "data": {
      "text/plain": [
       "                                                           binary_accuracy  \\\n",
       "tfx_pipeline_output_pjm-pipeline-20200909a    doubleValue         0.711934   \n",
       "                                              doubleValue         0.920047   \n",
       "tfx_iris_edb0c03f-edb1-4620-90d9-c58f95eefc89 doubleValue              NaN   \n",
       "OL653374_kfp_202010061810                     doubleValue         0.547361   \n",
       "Trainer_model                                 doubleValue         0.313326   \n",
       "\n",
       "                                                           binary_accuracy_diff  \\\n",
       "tfx_pipeline_output_pjm-pipeline-20200909a    doubleValue                   NaN   \n",
       "                                              doubleValue              0.208113   \n",
       "tfx_iris_edb0c03f-edb1-4620-90d9-c58f95eefc89 doubleValue                   NaN   \n",
       "OL653374_kfp_202010061810                     doubleValue                   NaN   \n",
       "Trainer_model                                 doubleValue                   NaN   \n",
       "\n",
       "                                                           sparse_categorical_accuracy  \n",
       "tfx_pipeline_output_pjm-pipeline-20200909a    doubleValue                          NaN  \n",
       "                                              doubleValue                          NaN  \n",
       "tfx_iris_edb0c03f-edb1-4620-90d9-c58f95eefc89 doubleValue                     0.513514  \n",
       "OL653374_kfp_202010061810                     doubleValue                          NaN  \n",
       "Trainer_model                                 doubleValue                          NaN  "
      ],
      "text/html": "<div>\n<style scoped>\n    .dataframe tbody tr th:only-of-type {\n        vertical-align: middle;\n    }\n\n    .dataframe tbody tr th {\n        vertical-align: top;\n    }\n\n    .dataframe thead th {\n        text-align: right;\n    }\n</style>\n<table border=\"1\" class=\"dataframe\">\n  <thead>\n    <tr style=\"text-align: right;\">\n      <th></th>\n      <th></th>\n      <th>binary_accuracy</th>\n      <th>binary_accuracy_diff</th>\n      <th>sparse_categorical_accuracy</th>\n    </tr>\n  </thead>\n  <tbody>\n    <tr>\n      <th>tfx_pipeline_output_pjm-pipeline-20200909a</th>\n      <th>doubleValue</th>\n      <td>0.711934</td>\n      <td>NaN</td>\n      <td>NaN</td>\n    </tr>\n    <tr>\n      <th></th>\n      <th>doubleValue</th>\n      <td>0.920047</td>\n      <td>0.208113</td>\n      <td>NaN</td>\n    </tr>\n    <tr>\n      <th>tfx_iris_edb0c03f-edb1-4620-90d9-c58f95eefc89</th>\n      <th>doubleValue</th>\n      <td>NaN</td>\n      <td>NaN</td>\n      <td>0.513514</td>\n    </tr>\n    <tr>\n      <th>OL653374_kfp_202010061810</th>\n      <th>doubleValue</th>\n      <td>0.547361</td>\n      <td>NaN</td>\n      <td>NaN</td>\n    </tr>\n    <tr>\n      <th>Trainer_model</th>\n      <th>doubleValue</th>\n      <td>0.313326</td>\n      <td>NaN</td>\n      <td>NaN</td>\n    </tr>\n  </tbody>\n</table>\n</div>"
     },
     "metadata": {},
     "execution_count": 85
    }
   ],
   "source": [
    "def trim_location(result):\n",
    "    location_str = result._asdict()['model_location']\n",
    "    return \"_\".join(location_str.split('/')[3:5])\n",
    "\n",
    "def process_metrics(result):\n",
    "    metric_list = result._asdict()['slicing_metrics']\n",
    "    metric_dict = metric_list[0][1]['']['']\n",
    "    return pd.DataFrame.from_dict(metric_dict)\n",
    "\n",
    "\n",
    "result_df = pd.concat({\n",
    "    trim_location(x):process_metrics(x) \n",
    "    for x in eval_results.get_results()})\n",
    "result_df"
   ]
  },
  {
   "cell_type": "code",
   "execution_count": null,
   "metadata": {},
   "outputs": [],
   "source": []
  }
 ]
}